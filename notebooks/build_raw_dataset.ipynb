{
 "nbformat": 4,
 "nbformat_minor": 0,
 "metadata": {
  "colab": {
   "provenance": [],
   "gpuType": "T4",
   "machine_shape": "hm",
   "mount_file_id": "1w6QTOPM8tjq97xflrFCvf9AxspJLSUy0",
   "authorship_tag": "ABX9TyPyyStPTHmkMwJDuw+yOAIJ"
  },
  "kernelspec": {
   "name": "python3",
   "display_name": "Python 3"
  },
  "language_info": {
   "name": "python"
  },
  "accelerator": "GPU",
  "widgets": {
   "application/vnd.jupyter.widget-state+json": {
    "92f644603c9348b38c4938abf0ac083f": {
     "model_module": "@jupyter-widgets/controls",
     "model_name": "HBoxModel",
     "model_module_version": "1.5.0",
     "state": {
      "_dom_classes": [],
      "_model_module": "@jupyter-widgets/controls",
      "_model_module_version": "1.5.0",
      "_model_name": "HBoxModel",
      "_view_count": null,
      "_view_module": "@jupyter-widgets/controls",
      "_view_module_version": "1.5.0",
      "_view_name": "HBoxView",
      "box_style": "",
      "children": [
       "IPY_MODEL_ee7d8446110e48bc8c5488ba0471f410",
       "IPY_MODEL_8e025253aad34d6b91839678cab5a388",
       "IPY_MODEL_2a7301565faa447f822d0b6c67c80f27"
      ],
      "layout": "IPY_MODEL_21c9e9a593794c13a645b41ee032dbd4"
     }
    },
    "ee7d8446110e48bc8c5488ba0471f410": {
     "model_module": "@jupyter-widgets/controls",
     "model_name": "HTMLModel",
     "model_module_version": "1.5.0",
     "state": {
      "_dom_classes": [],
      "_model_module": "@jupyter-widgets/controls",
      "_model_module_version": "1.5.0",
      "_model_name": "HTMLModel",
      "_view_count": null,
      "_view_module": "@jupyter-widgets/controls",
      "_view_module_version": "1.5.0",
      "_view_name": "HTMLView",
      "description": "",
      "description_tooltip": null,
      "layout": "IPY_MODEL_4494f7d1461349dcb647cc5475dc9457",
      "placeholder": "​",
      "style": "IPY_MODEL_9af351173f9d459cbb2c346e9b548db2",
      "value": "100%"
     }
    },
    "8e025253aad34d6b91839678cab5a388": {
     "model_module": "@jupyter-widgets/controls",
     "model_name": "FloatProgressModel",
     "model_module_version": "1.5.0",
     "state": {
      "_dom_classes": [],
      "_model_module": "@jupyter-widgets/controls",
      "_model_module_version": "1.5.0",
      "_model_name": "FloatProgressModel",
      "_view_count": null,
      "_view_module": "@jupyter-widgets/controls",
      "_view_module_version": "1.5.0",
      "_view_name": "ProgressView",
      "bar_style": "success",
      "description": "",
      "description_tooltip": null,
      "layout": "IPY_MODEL_fc036a82071d4640a4ee4d1843c7a023",
      "max": 3,
      "min": 0,
      "orientation": "horizontal",
      "style": "IPY_MODEL_a141ae6aaf9d4d8aab4190632e043b67",
      "value": 3
     }
    },
    "2a7301565faa447f822d0b6c67c80f27": {
     "model_module": "@jupyter-widgets/controls",
     "model_name": "HTMLModel",
     "model_module_version": "1.5.0",
     "state": {
      "_dom_classes": [],
      "_model_module": "@jupyter-widgets/controls",
      "_model_module_version": "1.5.0",
      "_model_name": "HTMLModel",
      "_view_count": null,
      "_view_module": "@jupyter-widgets/controls",
      "_view_module_version": "1.5.0",
      "_view_name": "HTMLView",
      "description": "",
      "description_tooltip": null,
      "layout": "IPY_MODEL_d98834bbeee84ae0abc001d5d3b8f003",
      "placeholder": "​",
      "style": "IPY_MODEL_415e37931e884f4da6e5b44b5bd0954e",
      "value": " 3/3 [00:00&lt;00:00, 77.92it/s]"
     }
    },
    "21c9e9a593794c13a645b41ee032dbd4": {
     "model_module": "@jupyter-widgets/base",
     "model_name": "LayoutModel",
     "model_module_version": "1.2.0",
     "state": {
      "_model_module": "@jupyter-widgets/base",
      "_model_module_version": "1.2.0",
      "_model_name": "LayoutModel",
      "_view_count": null,
      "_view_module": "@jupyter-widgets/base",
      "_view_module_version": "1.2.0",
      "_view_name": "LayoutView",
      "align_content": null,
      "align_items": null,
      "align_self": null,
      "border": null,
      "bottom": null,
      "display": null,
      "flex": null,
      "flex_flow": null,
      "grid_area": null,
      "grid_auto_columns": null,
      "grid_auto_flow": null,
      "grid_auto_rows": null,
      "grid_column": null,
      "grid_gap": null,
      "grid_row": null,
      "grid_template_areas": null,
      "grid_template_columns": null,
      "grid_template_rows": null,
      "height": null,
      "justify_content": null,
      "justify_items": null,
      "left": null,
      "margin": null,
      "max_height": null,
      "max_width": null,
      "min_height": null,
      "min_width": null,
      "object_fit": null,
      "object_position": null,
      "order": null,
      "overflow": null,
      "overflow_x": null,
      "overflow_y": null,
      "padding": null,
      "right": null,
      "top": null,
      "visibility": null,
      "width": null
     }
    },
    "4494f7d1461349dcb647cc5475dc9457": {
     "model_module": "@jupyter-widgets/base",
     "model_name": "LayoutModel",
     "model_module_version": "1.2.0",
     "state": {
      "_model_module": "@jupyter-widgets/base",
      "_model_module_version": "1.2.0",
      "_model_name": "LayoutModel",
      "_view_count": null,
      "_view_module": "@jupyter-widgets/base",
      "_view_module_version": "1.2.0",
      "_view_name": "LayoutView",
      "align_content": null,
      "align_items": null,
      "align_self": null,
      "border": null,
      "bottom": null,
      "display": null,
      "flex": null,
      "flex_flow": null,
      "grid_area": null,
      "grid_auto_columns": null,
      "grid_auto_flow": null,
      "grid_auto_rows": null,
      "grid_column": null,
      "grid_gap": null,
      "grid_row": null,
      "grid_template_areas": null,
      "grid_template_columns": null,
      "grid_template_rows": null,
      "height": null,
      "justify_content": null,
      "justify_items": null,
      "left": null,
      "margin": null,
      "max_height": null,
      "max_width": null,
      "min_height": null,
      "min_width": null,
      "object_fit": null,
      "object_position": null,
      "order": null,
      "overflow": null,
      "overflow_x": null,
      "overflow_y": null,
      "padding": null,
      "right": null,
      "top": null,
      "visibility": null,
      "width": null
     }
    },
    "9af351173f9d459cbb2c346e9b548db2": {
     "model_module": "@jupyter-widgets/controls",
     "model_name": "DescriptionStyleModel",
     "model_module_version": "1.5.0",
     "state": {
      "_model_module": "@jupyter-widgets/controls",
      "_model_module_version": "1.5.0",
      "_model_name": "DescriptionStyleModel",
      "_view_count": null,
      "_view_module": "@jupyter-widgets/base",
      "_view_module_version": "1.2.0",
      "_view_name": "StyleView",
      "description_width": ""
     }
    },
    "fc036a82071d4640a4ee4d1843c7a023": {
     "model_module": "@jupyter-widgets/base",
     "model_name": "LayoutModel",
     "model_module_version": "1.2.0",
     "state": {
      "_model_module": "@jupyter-widgets/base",
      "_model_module_version": "1.2.0",
      "_model_name": "LayoutModel",
      "_view_count": null,
      "_view_module": "@jupyter-widgets/base",
      "_view_module_version": "1.2.0",
      "_view_name": "LayoutView",
      "align_content": null,
      "align_items": null,
      "align_self": null,
      "border": null,
      "bottom": null,
      "display": null,
      "flex": null,
      "flex_flow": null,
      "grid_area": null,
      "grid_auto_columns": null,
      "grid_auto_flow": null,
      "grid_auto_rows": null,
      "grid_column": null,
      "grid_gap": null,
      "grid_row": null,
      "grid_template_areas": null,
      "grid_template_columns": null,
      "grid_template_rows": null,
      "height": null,
      "justify_content": null,
      "justify_items": null,
      "left": null,
      "margin": null,
      "max_height": null,
      "max_width": null,
      "min_height": null,
      "min_width": null,
      "object_fit": null,
      "object_position": null,
      "order": null,
      "overflow": null,
      "overflow_x": null,
      "overflow_y": null,
      "padding": null,
      "right": null,
      "top": null,
      "visibility": null,
      "width": null
     }
    },
    "a141ae6aaf9d4d8aab4190632e043b67": {
     "model_module": "@jupyter-widgets/controls",
     "model_name": "ProgressStyleModel",
     "model_module_version": "1.5.0",
     "state": {
      "_model_module": "@jupyter-widgets/controls",
      "_model_module_version": "1.5.0",
      "_model_name": "ProgressStyleModel",
      "_view_count": null,
      "_view_module": "@jupyter-widgets/base",
      "_view_module_version": "1.2.0",
      "_view_name": "StyleView",
      "bar_color": null,
      "description_width": ""
     }
    },
    "d98834bbeee84ae0abc001d5d3b8f003": {
     "model_module": "@jupyter-widgets/base",
     "model_name": "LayoutModel",
     "model_module_version": "1.2.0",
     "state": {
      "_model_module": "@jupyter-widgets/base",
      "_model_module_version": "1.2.0",
      "_model_name": "LayoutModel",
      "_view_count": null,
      "_view_module": "@jupyter-widgets/base",
      "_view_module_version": "1.2.0",
      "_view_name": "LayoutView",
      "align_content": null,
      "align_items": null,
      "align_self": null,
      "border": null,
      "bottom": null,
      "display": null,
      "flex": null,
      "flex_flow": null,
      "grid_area": null,
      "grid_auto_columns": null,
      "grid_auto_flow": null,
      "grid_auto_rows": null,
      "grid_column": null,
      "grid_gap": null,
      "grid_row": null,
      "grid_template_areas": null,
      "grid_template_columns": null,
      "grid_template_rows": null,
      "height": null,
      "justify_content": null,
      "justify_items": null,
      "left": null,
      "margin": null,
      "max_height": null,
      "max_width": null,
      "min_height": null,
      "min_width": null,
      "object_fit": null,
      "object_position": null,
      "order": null,
      "overflow": null,
      "overflow_x": null,
      "overflow_y": null,
      "padding": null,
      "right": null,
      "top": null,
      "visibility": null,
      "width": null
     }
    },
    "415e37931e884f4da6e5b44b5bd0954e": {
     "model_module": "@jupyter-widgets/controls",
     "model_name": "DescriptionStyleModel",
     "model_module_version": "1.5.0",
     "state": {
      "_model_module": "@jupyter-widgets/controls",
      "_model_module_version": "1.5.0",
      "_model_name": "DescriptionStyleModel",
      "_view_count": null,
      "_view_module": "@jupyter-widgets/base",
      "_view_module_version": "1.2.0",
      "_view_name": "StyleView",
      "description_width": ""
     }
    }
   }
  }
 },
 "cells": [
  {
   "cell_type": "markdown",
   "source": [
    "# Build heterogeneous graphs out of MedMCQA and PrimeKG"
   ],
   "metadata": {
    "id": "520eerHjl2eA"
   }
  },
  {
   "cell_type": "markdown",
   "source": [
    "## Setup"
   ],
   "metadata": {
    "id": "WSRB7olZlsQO"
   }
  },
  {
   "cell_type": "code",
   "execution_count": null,
   "metadata": {
    "colab": {
     "base_uri": "https://localhost:8080/"
    },
    "id": "xCRteMHVNIyr",
    "executionInfo": {
     "status": "ok",
     "timestamp": 1704011453575,
     "user_tz": -120,
     "elapsed": 2409,
     "user": {
      "displayName": "Shira Ben David",
      "userId": "15174141733610170957"
     }
    },
    "outputId": "1ef55972-0684-4504-e262-c531cb814d96"
   },
   "outputs": [
    {
     "output_type": "stream",
     "name": "stdout",
     "text": [
      "Drive already mounted at /content/drive; to attempt to forcibly remount, call drive.mount(\"/content/drive\", force_remount=True).\n",
      "/content/drive/MyDrive/Thesis/MedTransNet\n"
     ]
    }
   ],
   "source": [
    "from google.colab import drive\n",
    "drive.mount('/content/drive')\n",
    "\n",
    "%cd /content/drive/MyDrive/Thesis/MedTransNet\n",
    "\n",
    "import sys\n",
    "sys.path.append('/content/drive/MyDrive/Thesis/MedTransNet')"
   ]
  },
  {
   "cell_type": "code",
   "source": [
    "!pip install -r requirements.txt"
   ],
   "metadata": {
    "colab": {
     "base_uri": "https://localhost:8080/"
    },
    "id": "Hc1yTtblNSqG",
    "executionInfo": {
     "status": "ok",
     "timestamp": 1704011463690,
     "user_tz": -120,
     "elapsed": 10117,
     "user": {
      "displayName": "Shira Ben David",
      "userId": "15174141733610170957"
     }
    },
    "outputId": "dc060f53-b4d6-4a82-9829-99cc9ed4df76"
   },
   "execution_count": null,
   "outputs": [
    {
     "output_type": "stream",
     "name": "stdout",
     "text": [
      "Requirement already satisfied: datasets~=2.13.1 in /usr/local/lib/python3.10/dist-packages (from -r requirements.txt (line 1)) (2.13.2)\n",
      "Requirement already satisfied: faiss-cpu~=1.7.4 in /usr/local/lib/python3.10/dist-packages (from -r requirements.txt (line 2)) (1.7.4)\n",
      "Requirement already satisfied: TensorFlow>=2.14 in /usr/local/lib/python3.10/dist-packages (from -r requirements.txt (line 3)) (2.15.0)\n",
      "Requirement already satisfied: gensim~=4.3.2 in /usr/local/lib/python3.10/dist-packages (from -r requirements.txt (line 4)) (4.3.2)\n",
      "Requirement already satisfied: lightning~=2.0.6 in /usr/local/lib/python3.10/dist-packages (from -r requirements.txt (line 5)) (2.0.9.post0)\n",
      "Requirement already satisfied: matplotlib~=3.7.2 in /usr/local/lib/python3.10/dist-packages (from -r requirements.txt (line 6)) (3.7.4)\n",
      "Requirement already satisfied: networkx~=3.1 in /usr/local/lib/python3.10/dist-packages (from -r requirements.txt (line 7)) (3.2.1)\n",
      "Requirement already satisfied: nltk~=3.8.1 in /usr/local/lib/python3.10/dist-packages (from -r requirements.txt (line 8)) (3.8.1)\n",
      "Requirement already satisfied: numpy>=1.25.0 in /usr/local/lib/python3.10/dist-packages (from -r requirements.txt (line 9)) (1.26.2)\n",
      "Requirement already satisfied: openai~=0.27.8 in /usr/local/lib/python3.10/dist-packages (from -r requirements.txt (line 10)) (0.27.10)\n",
      "Requirement already satisfied: pandas>=1.4.3 in /usr/local/lib/python3.10/dist-packages (from -r requirements.txt (line 11)) (1.5.3)\n",
      "Requirement already satisfied: pykeen==1.10.1 in /usr/local/lib/python3.10/dist-packages (from -r requirements.txt (line 12)) (1.10.1)\n",
      "Requirement already satisfied: python-dotenv~=1.0.0 in /usr/local/lib/python3.10/dist-packages (from -r requirements.txt (line 13)) (1.0.0)\n",
      "Requirement already satisfied: scikit-learn~=1.3.0 in /usr/local/lib/python3.10/dist-packages (from -r requirements.txt (line 14)) (1.3.2)\n",
      "Requirement already satisfied: sentence-transformers==2.2.2 in /usr/local/lib/python3.10/dist-packages (from -r requirements.txt (line 15)) (2.2.2)\n",
      "Requirement already satisfied: spacy>=3.5.4 in /usr/local/lib/python3.10/dist-packages (from -r requirements.txt (line 16)) (3.6.1)\n",
      "Requirement already satisfied: torch>=2.0.1 in /usr/local/lib/python3.10/dist-packages (from -r requirements.txt (line 17)) (2.1.0+cu121)\n",
      "Requirement already satisfied: torch-geometric~=2.4.0 in /usr/local/lib/python3.10/dist-packages (from -r requirements.txt (line 18)) (2.4.0)\n",
      "Requirement already satisfied: transformers~=4.30.2 in /usr/local/lib/python3.10/dist-packages (from -r requirements.txt (line 19)) (4.30.2)\n",
      "Requirement already satisfied: tsne-torch~=1.0.1 in /usr/local/lib/python3.10/dist-packages (from -r requirements.txt (line 20)) (1.0.1)\n",
      "Requirement already satisfied: tqdm~=4.65.0 in /usr/local/lib/python3.10/dist-packages (from -r requirements.txt (line 21)) (4.65.2)\n",
      "Requirement already satisfied: wordcloud==1.9.2 in /usr/local/lib/python3.10/dist-packages (from -r requirements.txt (line 22)) (1.9.2)\n",
      "Requirement already satisfied: dataclasses-json in /usr/local/lib/python3.10/dist-packages (from pykeen==1.10.1->-r requirements.txt (line 12)) (0.6.3)\n",
      "Requirement already satisfied: scipy>=1.7.0 in /usr/local/lib/python3.10/dist-packages (from pykeen==1.10.1->-r requirements.txt (line 12)) (1.11.4)\n",
      "Requirement already satisfied: click in /usr/local/lib/python3.10/dist-packages (from pykeen==1.10.1->-r requirements.txt (line 12)) (8.1.7)\n",
      "Requirement already satisfied: click-default-group in /usr/local/lib/python3.10/dist-packages (from pykeen==1.10.1->-r requirements.txt (line 12)) (1.2.4)\n",
      "Requirement already satisfied: requests in /usr/local/lib/python3.10/dist-packages (from pykeen==1.10.1->-r requirements.txt (line 12)) (2.31.0)\n",
      "Requirement already satisfied: optuna>=2.0.0 in /usr/local/lib/python3.10/dist-packages (from pykeen==1.10.1->-r requirements.txt (line 12)) (3.5.0)\n",
      "Requirement already satisfied: tabulate in /usr/local/lib/python3.10/dist-packages (from pykeen==1.10.1->-r requirements.txt (line 12)) (0.9.0)\n",
      "Requirement already satisfied: more-click in /usr/local/lib/python3.10/dist-packages (from pykeen==1.10.1->-r requirements.txt (line 12)) (0.1.2)\n",
      "Requirement already satisfied: more-itertools in /usr/local/lib/python3.10/dist-packages (from pykeen==1.10.1->-r requirements.txt (line 12)) (10.1.0)\n",
      "Requirement already satisfied: pystow>=0.4.3 in /usr/local/lib/python3.10/dist-packages (from pykeen==1.10.1->-r requirements.txt (line 12)) (0.5.2)\n",
      "Requirement already satisfied: docdata in /usr/local/lib/python3.10/dist-packages (from pykeen==1.10.1->-r requirements.txt (line 12)) (0.0.3)\n",
      "Requirement already satisfied: class-resolver>=0.3.10 in /usr/local/lib/python3.10/dist-packages (from pykeen==1.10.1->-r requirements.txt (line 12)) (0.4.2)\n",
      "Requirement already satisfied: pyyaml in /usr/local/lib/python3.10/dist-packages (from pykeen==1.10.1->-r requirements.txt (line 12)) (6.0.1)\n",
      "Requirement already satisfied: rexmex>=0.1.3 in /usr/local/lib/python3.10/dist-packages (from pykeen==1.10.1->-r requirements.txt (line 12)) (0.1.3)\n",
      "Requirement already satisfied: torch-max-mem>=0.0.4 in /usr/local/lib/python3.10/dist-packages (from pykeen==1.10.1->-r requirements.txt (line 12)) (0.1.3)\n",
      "Requirement already satisfied: torch-ppr>=0.0.7 in /usr/local/lib/python3.10/dist-packages (from pykeen==1.10.1->-r requirements.txt (line 12)) (0.0.8)\n",
      "Requirement already satisfied: protobuf<4.0.0 in /usr/local/lib/python3.10/dist-packages (from pykeen==1.10.1->-r requirements.txt (line 12)) (3.20.3)\n",
      "Requirement already satisfied: typing-extensions in /usr/local/lib/python3.10/dist-packages (from pykeen==1.10.1->-r requirements.txt (line 12)) (4.9.0)\n",
      "Requirement already satisfied: torchvision in /usr/local/lib/python3.10/dist-packages (from sentence-transformers==2.2.2->-r requirements.txt (line 15)) (0.16.0+cu121)\n",
      "Requirement already satisfied: sentencepiece in /usr/local/lib/python3.10/dist-packages (from sentence-transformers==2.2.2->-r requirements.txt (line 15)) (0.1.99)\n",
      "Requirement already satisfied: huggingface-hub>=0.4.0 in /usr/local/lib/python3.10/dist-packages (from sentence-transformers==2.2.2->-r requirements.txt (line 15)) (0.19.4)\n",
      "Requirement already satisfied: pillow in /usr/local/lib/python3.10/dist-packages (from wordcloud==1.9.2->-r requirements.txt (line 22)) (9.4.0)\n",
      "Requirement already satisfied: pyarrow>=8.0.0 in /usr/local/lib/python3.10/dist-packages (from datasets~=2.13.1->-r requirements.txt (line 1)) (10.0.1)\n",
      "Requirement already satisfied: dill<0.3.7,>=0.3.0 in /usr/local/lib/python3.10/dist-packages (from datasets~=2.13.1->-r requirements.txt (line 1)) (0.3.6)\n",
      "Requirement already satisfied: xxhash in /usr/local/lib/python3.10/dist-packages (from datasets~=2.13.1->-r requirements.txt (line 1)) (3.4.1)\n",
      "Requirement already satisfied: multiprocess in /usr/local/lib/python3.10/dist-packages (from datasets~=2.13.1->-r requirements.txt (line 1)) (0.70.14)\n",
      "Requirement already satisfied: fsspec[http]>=2021.11.1 in /usr/local/lib/python3.10/dist-packages (from datasets~=2.13.1->-r requirements.txt (line 1)) (2023.6.0)\n",
      "Requirement already satisfied: aiohttp in /usr/local/lib/python3.10/dist-packages (from datasets~=2.13.1->-r requirements.txt (line 1)) (3.9.1)\n",
      "Requirement already satisfied: packaging in /usr/local/lib/python3.10/dist-packages (from datasets~=2.13.1->-r requirements.txt (line 1)) (23.2)\n",
      "Requirement already satisfied: absl-py>=1.0.0 in /usr/local/lib/python3.10/dist-packages (from TensorFlow>=2.14->-r requirements.txt (line 3)) (1.4.0)\n",
      "Requirement already satisfied: astunparse>=1.6.0 in /usr/local/lib/python3.10/dist-packages (from TensorFlow>=2.14->-r requirements.txt (line 3)) (1.6.3)\n",
      "Requirement already satisfied: flatbuffers>=23.5.26 in /usr/local/lib/python3.10/dist-packages (from TensorFlow>=2.14->-r requirements.txt (line 3)) (23.5.26)\n",
      "Requirement already satisfied: gast!=0.5.0,!=0.5.1,!=0.5.2,>=0.2.1 in /usr/local/lib/python3.10/dist-packages (from TensorFlow>=2.14->-r requirements.txt (line 3)) (0.5.4)\n",
      "Requirement already satisfied: google-pasta>=0.1.1 in /usr/local/lib/python3.10/dist-packages (from TensorFlow>=2.14->-r requirements.txt (line 3)) (0.2.0)\n",
      "Requirement already satisfied: h5py>=2.9.0 in /usr/local/lib/python3.10/dist-packages (from TensorFlow>=2.14->-r requirements.txt (line 3)) (3.9.0)\n",
      "Requirement already satisfied: libclang>=13.0.0 in /usr/local/lib/python3.10/dist-packages (from TensorFlow>=2.14->-r requirements.txt (line 3)) (16.0.6)\n",
      "Requirement already satisfied: ml-dtypes~=0.2.0 in /usr/local/lib/python3.10/dist-packages (from TensorFlow>=2.14->-r requirements.txt (line 3)) (0.2.0)\n",
      "Requirement already satisfied: opt-einsum>=2.3.2 in /usr/local/lib/python3.10/dist-packages (from TensorFlow>=2.14->-r requirements.txt (line 3)) (3.3.0)\n",
      "Requirement already satisfied: setuptools in /usr/local/lib/python3.10/dist-packages (from TensorFlow>=2.14->-r requirements.txt (line 3)) (67.7.2)\n",
      "Requirement already satisfied: six>=1.12.0 in /usr/local/lib/python3.10/dist-packages (from TensorFlow>=2.14->-r requirements.txt (line 3)) (1.16.0)\n",
      "Requirement already satisfied: termcolor>=1.1.0 in /usr/local/lib/python3.10/dist-packages (from TensorFlow>=2.14->-r requirements.txt (line 3)) (2.4.0)\n",
      "Requirement already satisfied: wrapt<1.15,>=1.11.0 in /usr/local/lib/python3.10/dist-packages (from TensorFlow>=2.14->-r requirements.txt (line 3)) (1.14.1)\n",
      "Requirement already satisfied: tensorflow-io-gcs-filesystem>=0.23.1 in /usr/local/lib/python3.10/dist-packages (from TensorFlow>=2.14->-r requirements.txt (line 3)) (0.34.0)\n",
      "Requirement already satisfied: grpcio<2.0,>=1.24.3 in /usr/local/lib/python3.10/dist-packages (from TensorFlow>=2.14->-r requirements.txt (line 3)) (1.60.0)\n",
      "Requirement already satisfied: tensorboard<2.16,>=2.15 in /usr/local/lib/python3.10/dist-packages (from TensorFlow>=2.14->-r requirements.txt (line 3)) (2.15.1)\n",
      "Requirement already satisfied: tensorflow-estimator<2.16,>=2.15.0 in /usr/local/lib/python3.10/dist-packages (from TensorFlow>=2.14->-r requirements.txt (line 3)) (2.15.0)\n",
      "Requirement already satisfied: keras<2.16,>=2.15.0 in /usr/local/lib/python3.10/dist-packages (from TensorFlow>=2.14->-r requirements.txt (line 3)) (2.15.0)\n",
      "Requirement already satisfied: smart-open>=1.8.1 in /usr/local/lib/python3.10/dist-packages (from gensim~=4.3.2->-r requirements.txt (line 4)) (6.4.0)\n",
      "Requirement already satisfied: Jinja2<5.0 in /usr/local/lib/python3.10/dist-packages (from lightning~=2.0.6->-r requirements.txt (line 5)) (3.1.2)\n",
      "Requirement already satisfied: arrow<3.0,>=1.2.0 in /usr/local/lib/python3.10/dist-packages (from lightning~=2.0.6->-r requirements.txt (line 5)) (1.3.0)\n",
      "Requirement already satisfied: backoff<4.0,>=2.2.1 in /usr/local/lib/python3.10/dist-packages (from lightning~=2.0.6->-r requirements.txt (line 5)) (2.2.1)\n",
      "Requirement already satisfied: beautifulsoup4<6.0,>=4.8.0 in /usr/local/lib/python3.10/dist-packages (from lightning~=2.0.6->-r requirements.txt (line 5)) (4.11.2)\n",
      "Requirement already satisfied: croniter<1.5.0,>=1.3.0 in /usr/local/lib/python3.10/dist-packages (from lightning~=2.0.6->-r requirements.txt (line 5)) (1.4.1)\n",
      "Requirement already satisfied: dateutils<2.0 in /usr/local/lib/python3.10/dist-packages (from lightning~=2.0.6->-r requirements.txt (line 5)) (0.6.12)\n",
      "Requirement already satisfied: deepdiff<8.0,>=5.7.0 in /usr/local/lib/python3.10/dist-packages (from lightning~=2.0.6->-r requirements.txt (line 5)) (6.7.1)\n",
      "Requirement already satisfied: fastapi<2.0,>=0.92.0 in /usr/local/lib/python3.10/dist-packages (from lightning~=2.0.6->-r requirements.txt (line 5)) (0.108.0)\n",
      "Requirement already satisfied: inquirer<5.0,>=2.10.0 in /usr/local/lib/python3.10/dist-packages (from lightning~=2.0.6->-r requirements.txt (line 5)) (3.1.4)\n",
      "Requirement already satisfied: lightning-cloud>=0.5.38 in /usr/local/lib/python3.10/dist-packages (from lightning~=2.0.6->-r requirements.txt (line 5)) (0.5.57)\n",
      "Requirement already satisfied: lightning-utilities<2.0,>=0.7.0 in /usr/local/lib/python3.10/dist-packages (from lightning~=2.0.6->-r requirements.txt (line 5)) (0.10.0)\n",
      "Requirement already satisfied: psutil<7.0 in /usr/local/lib/python3.10/dist-packages (from lightning~=2.0.6->-r requirements.txt (line 5)) (5.9.5)\n",
      "Requirement already satisfied: pydantic<2.2.0,>=1.7.4 in /usr/local/lib/python3.10/dist-packages (from lightning~=2.0.6->-r requirements.txt (line 5)) (1.10.13)\n",
      "Requirement already satisfied: python-multipart<2.0,>=0.0.5 in /usr/local/lib/python3.10/dist-packages (from lightning~=2.0.6->-r requirements.txt (line 5)) (0.0.6)\n",
      "Requirement already satisfied: rich<15.0,>=12.3.0 in /usr/local/lib/python3.10/dist-packages (from lightning~=2.0.6->-r requirements.txt (line 5)) (13.7.0)\n",
      "Requirement already satisfied: starlette in /usr/local/lib/python3.10/dist-packages (from lightning~=2.0.6->-r requirements.txt (line 5)) (0.32.0.post1)\n",
      "Requirement already satisfied: starsessions<2.0,>=1.2.1 in /usr/local/lib/python3.10/dist-packages (from lightning~=2.0.6->-r requirements.txt (line 5)) (1.3.0)\n",
      "Requirement already satisfied: torchmetrics<3.0,>=0.7.0 in /usr/local/lib/python3.10/dist-packages (from lightning~=2.0.6->-r requirements.txt (line 5)) (1.2.1)\n",
      "Requirement already satisfied: traitlets<7.0,>=5.3.0 in /usr/local/lib/python3.10/dist-packages (from lightning~=2.0.6->-r requirements.txt (line 5)) (5.7.1)\n",
      "Requirement already satisfied: urllib3<4.0 in /usr/local/lib/python3.10/dist-packages (from lightning~=2.0.6->-r requirements.txt (line 5)) (2.0.7)\n",
      "Requirement already satisfied: uvicorn<2.0 in /usr/local/lib/python3.10/dist-packages (from lightning~=2.0.6->-r requirements.txt (line 5)) (0.25.0)\n",
      "Requirement already satisfied: websocket-client<3.0 in /usr/local/lib/python3.10/dist-packages (from lightning~=2.0.6->-r requirements.txt (line 5)) (1.7.0)\n",
      "Requirement already satisfied: websockets<13.0 in /usr/local/lib/python3.10/dist-packages (from lightning~=2.0.6->-r requirements.txt (line 5)) (12.0)\n",
      "Requirement already satisfied: pytorch-lightning in /usr/local/lib/python3.10/dist-packages (from lightning~=2.0.6->-r requirements.txt (line 5)) (2.1.3)\n",
      "Requirement already satisfied: contourpy>=1.0.1 in /usr/local/lib/python3.10/dist-packages (from matplotlib~=3.7.2->-r requirements.txt (line 6)) (1.2.0)\n",
      "Requirement already satisfied: cycler>=0.10 in /usr/local/lib/python3.10/dist-packages (from matplotlib~=3.7.2->-r requirements.txt (line 6)) (0.12.1)\n",
      "Requirement already satisfied: fonttools>=4.22.0 in /usr/local/lib/python3.10/dist-packages (from matplotlib~=3.7.2->-r requirements.txt (line 6)) (4.46.0)\n",
      "Requirement already satisfied: kiwisolver>=1.0.1 in /usr/local/lib/python3.10/dist-packages (from matplotlib~=3.7.2->-r requirements.txt (line 6)) (1.4.5)\n",
      "Requirement already satisfied: pyparsing>=2.3.1 in /usr/local/lib/python3.10/dist-packages (from matplotlib~=3.7.2->-r requirements.txt (line 6)) (3.1.1)\n",
      "Requirement already satisfied: python-dateutil>=2.7 in /usr/local/lib/python3.10/dist-packages (from matplotlib~=3.7.2->-r requirements.txt (line 6)) (2.8.2)\n",
      "Requirement already satisfied: joblib in /usr/local/lib/python3.10/dist-packages (from nltk~=3.8.1->-r requirements.txt (line 8)) (1.3.2)\n",
      "Requirement already satisfied: regex>=2021.8.3 in /usr/local/lib/python3.10/dist-packages (from nltk~=3.8.1->-r requirements.txt (line 8)) (2023.6.3)\n",
      "Requirement already satisfied: pytz>=2020.1 in /usr/local/lib/python3.10/dist-packages (from pandas>=1.4.3->-r requirements.txt (line 11)) (2023.3.post1)\n",
      "Requirement already satisfied: threadpoolctl>=2.0.0 in /usr/local/lib/python3.10/dist-packages (from scikit-learn~=1.3.0->-r requirements.txt (line 14)) (3.2.0)\n",
      "Requirement already satisfied: spacy-legacy<3.1.0,>=3.0.11 in /usr/local/lib/python3.10/dist-packages (from spacy>=3.5.4->-r requirements.txt (line 16)) (3.0.12)\n",
      "Requirement already satisfied: spacy-loggers<2.0.0,>=1.0.0 in /usr/local/lib/python3.10/dist-packages (from spacy>=3.5.4->-r requirements.txt (line 16)) (1.0.5)\n",
      "Requirement already satisfied: murmurhash<1.1.0,>=0.28.0 in /usr/local/lib/python3.10/dist-packages (from spacy>=3.5.4->-r requirements.txt (line 16)) (1.0.10)\n",
      "Requirement already satisfied: cymem<2.1.0,>=2.0.2 in /usr/local/lib/python3.10/dist-packages (from spacy>=3.5.4->-r requirements.txt (line 16)) (2.0.8)\n",
      "Requirement already satisfied: preshed<3.1.0,>=3.0.2 in /usr/local/lib/python3.10/dist-packages (from spacy>=3.5.4->-r requirements.txt (line 16)) (3.0.9)\n",
      "Requirement already satisfied: thinc<8.2.0,>=8.1.8 in /usr/local/lib/python3.10/dist-packages (from spacy>=3.5.4->-r requirements.txt (line 16)) (8.1.12)\n",
      "Requirement already satisfied: wasabi<1.2.0,>=0.9.1 in /usr/local/lib/python3.10/dist-packages (from spacy>=3.5.4->-r requirements.txt (line 16)) (1.1.2)\n",
      "Requirement already satisfied: srsly<3.0.0,>=2.4.3 in /usr/local/lib/python3.10/dist-packages (from spacy>=3.5.4->-r requirements.txt (line 16)) (2.4.8)\n",
      "Requirement already satisfied: catalogue<2.1.0,>=2.0.6 in /usr/local/lib/python3.10/dist-packages (from spacy>=3.5.4->-r requirements.txt (line 16)) (2.0.10)\n",
      "Requirement already satisfied: typer<0.10.0,>=0.3.0 in /usr/local/lib/python3.10/dist-packages (from spacy>=3.5.4->-r requirements.txt (line 16)) (0.9.0)\n",
      "Requirement already satisfied: pathy>=0.10.0 in /usr/local/lib/python3.10/dist-packages (from spacy>=3.5.4->-r requirements.txt (line 16)) (0.10.3)\n",
      "Requirement already satisfied: langcodes<4.0.0,>=3.2.0 in /usr/local/lib/python3.10/dist-packages (from spacy>=3.5.4->-r requirements.txt (line 16)) (3.3.0)\n",
      "Requirement already satisfied: filelock in /usr/local/lib/python3.10/dist-packages (from torch>=2.0.1->-r requirements.txt (line 17)) (3.13.1)\n",
      "Requirement already satisfied: sympy in /usr/local/lib/python3.10/dist-packages (from torch>=2.0.1->-r requirements.txt (line 17)) (1.12)\n",
      "Requirement already satisfied: triton==2.1.0 in /usr/local/lib/python3.10/dist-packages (from torch>=2.0.1->-r requirements.txt (line 17)) (2.1.0)\n",
      "Requirement already satisfied: tokenizers!=0.11.3,<0.14,>=0.11.1 in /usr/local/lib/python3.10/dist-packages (from transformers~=4.30.2->-r requirements.txt (line 19)) (0.13.3)\n",
      "Requirement already satisfied: safetensors>=0.3.1 in /usr/local/lib/python3.10/dist-packages (from transformers~=4.30.2->-r requirements.txt (line 19)) (0.4.1)\n",
      "Requirement already satisfied: types-python-dateutil>=2.8.10 in /usr/local/lib/python3.10/dist-packages (from arrow<3.0,>=1.2.0->lightning~=2.0.6->-r requirements.txt (line 5)) (2.8.19.14)\n",
      "Requirement already satisfied: wheel<1.0,>=0.23.0 in /usr/local/lib/python3.10/dist-packages (from astunparse>=1.6.0->TensorFlow>=2.14->-r requirements.txt (line 3)) (0.42.0)\n",
      "Requirement already satisfied: soupsieve>1.2 in /usr/local/lib/python3.10/dist-packages (from beautifulsoup4<6.0,>=4.8.0->lightning~=2.0.6->-r requirements.txt (line 5)) (2.5)\n",
      "Requirement already satisfied: ordered-set<4.2.0,>=4.0.2 in /usr/local/lib/python3.10/dist-packages (from deepdiff<8.0,>=5.7.0->lightning~=2.0.6->-r requirements.txt (line 5)) (4.1.0)\n",
      "Requirement already satisfied: attrs>=17.3.0 in /usr/local/lib/python3.10/dist-packages (from aiohttp->datasets~=2.13.1->-r requirements.txt (line 1)) (23.1.0)\n",
      "Requirement already satisfied: multidict<7.0,>=4.5 in /usr/local/lib/python3.10/dist-packages (from aiohttp->datasets~=2.13.1->-r requirements.txt (line 1)) (6.0.4)\n",
      "Requirement already satisfied: yarl<2.0,>=1.0 in /usr/local/lib/python3.10/dist-packages (from aiohttp->datasets~=2.13.1->-r requirements.txt (line 1)) (1.9.4)\n",
      "Requirement already satisfied: frozenlist>=1.1.1 in /usr/local/lib/python3.10/dist-packages (from aiohttp->datasets~=2.13.1->-r requirements.txt (line 1)) (1.4.1)\n",
      "Requirement already satisfied: aiosignal>=1.1.2 in /usr/local/lib/python3.10/dist-packages (from aiohttp->datasets~=2.13.1->-r requirements.txt (line 1)) (1.3.1)\n",
      "Requirement already satisfied: async-timeout<5.0,>=4.0 in /usr/local/lib/python3.10/dist-packages (from aiohttp->datasets~=2.13.1->-r requirements.txt (line 1)) (4.0.3)\n",
      "Requirement already satisfied: blessed>=1.19.0 in /usr/local/lib/python3.10/dist-packages (from inquirer<5.0,>=2.10.0->lightning~=2.0.6->-r requirements.txt (line 5)) (1.20.0)\n",
      "Requirement already satisfied: python-editor>=1.0.4 in /usr/local/lib/python3.10/dist-packages (from inquirer<5.0,>=2.10.0->lightning~=2.0.6->-r requirements.txt (line 5)) (1.0.4)\n",
      "Requirement already satisfied: readchar>=3.0.6 in /usr/local/lib/python3.10/dist-packages (from inquirer<5.0,>=2.10.0->lightning~=2.0.6->-r requirements.txt (line 5)) (4.0.5)\n",
      "Requirement already satisfied: MarkupSafe>=2.0 in /usr/local/lib/python3.10/dist-packages (from Jinja2<5.0->lightning~=2.0.6->-r requirements.txt (line 5)) (2.1.3)\n",
      "Requirement already satisfied: pyjwt in /usr/lib/python3/dist-packages (from lightning-cloud>=0.5.38->lightning~=2.0.6->-r requirements.txt (line 5)) (2.3.0)\n",
      "Requirement already satisfied: boto3 in /usr/local/lib/python3.10/dist-packages (from lightning-cloud>=0.5.38->lightning~=2.0.6->-r requirements.txt (line 5)) (1.34.11)\n",
      "Requirement already satisfied: alembic>=1.5.0 in /usr/local/lib/python3.10/dist-packages (from optuna>=2.0.0->pykeen==1.10.1->-r requirements.txt (line 12)) (1.13.1)\n",
      "Requirement already satisfied: colorlog in /usr/local/lib/python3.10/dist-packages (from optuna>=2.0.0->pykeen==1.10.1->-r requirements.txt (line 12)) (6.8.0)\n",
      "Requirement already satisfied: sqlalchemy>=1.3.0 in /usr/local/lib/python3.10/dist-packages (from optuna>=2.0.0->pykeen==1.10.1->-r requirements.txt (line 12)) (2.0.23)\n",
      "Requirement already satisfied: charset-normalizer<4,>=2 in /usr/local/lib/python3.10/dist-packages (from requests->pykeen==1.10.1->-r requirements.txt (line 12)) (3.3.2)\n",
      "Requirement already satisfied: idna<4,>=2.5 in /usr/local/lib/python3.10/dist-packages (from requests->pykeen==1.10.1->-r requirements.txt (line 12)) (3.6)\n",
      "Requirement already satisfied: certifi>=2017.4.17 in /usr/local/lib/python3.10/dist-packages (from requests->pykeen==1.10.1->-r requirements.txt (line 12)) (2023.11.17)\n",
      "Requirement already satisfied: markdown-it-py>=2.2.0 in /usr/local/lib/python3.10/dist-packages (from rich<15.0,>=12.3.0->lightning~=2.0.6->-r requirements.txt (line 5)) (3.0.0)\n",
      "Requirement already satisfied: pygments<3.0.0,>=2.13.0 in /usr/local/lib/python3.10/dist-packages (from rich<15.0,>=12.3.0->lightning~=2.0.6->-r requirements.txt (line 5)) (2.16.1)\n",
      "Requirement already satisfied: anyio<5,>=3.4.0 in /usr/local/lib/python3.10/dist-packages (from starlette->lightning~=2.0.6->-r requirements.txt (line 5)) (3.7.1)\n",
      "Requirement already satisfied: itsdangerous<3.0.0,>=2.0.1 in /usr/local/lib/python3.10/dist-packages (from starsessions<2.0,>=1.2.1->lightning~=2.0.6->-r requirements.txt (line 5)) (2.1.2)\n",
      "Requirement already satisfied: google-auth<3,>=1.6.3 in /usr/local/lib/python3.10/dist-packages (from tensorboard<2.16,>=2.15->TensorFlow>=2.14->-r requirements.txt (line 3)) (2.17.3)\n",
      "Requirement already satisfied: google-auth-oauthlib<2,>=0.5 in /usr/local/lib/python3.10/dist-packages (from tensorboard<2.16,>=2.15->TensorFlow>=2.14->-r requirements.txt (line 3)) (1.2.0)\n",
      "Requirement already satisfied: markdown>=2.6.8 in /usr/local/lib/python3.10/dist-packages (from tensorboard<2.16,>=2.15->TensorFlow>=2.14->-r requirements.txt (line 3)) (3.5.1)\n",
      "Requirement already satisfied: tensorboard-data-server<0.8.0,>=0.7.0 in /usr/local/lib/python3.10/dist-packages (from tensorboard<2.16,>=2.15->TensorFlow>=2.14->-r requirements.txt (line 3)) (0.7.2)\n",
      "Requirement already satisfied: werkzeug>=1.0.1 in /usr/local/lib/python3.10/dist-packages (from tensorboard<2.16,>=2.15->TensorFlow>=2.14->-r requirements.txt (line 3)) (3.0.1)\n",
      "Requirement already satisfied: blis<0.8.0,>=0.7.8 in /usr/local/lib/python3.10/dist-packages (from thinc<8.2.0,>=8.1.8->spacy>=3.5.4->-r requirements.txt (line 16)) (0.7.11)\n",
      "Requirement already satisfied: confection<1.0.0,>=0.0.1 in /usr/local/lib/python3.10/dist-packages (from thinc<8.2.0,>=8.1.8->spacy>=3.5.4->-r requirements.txt (line 16)) (0.1.4)\n",
      "Requirement already satisfied: h11>=0.8 in /usr/local/lib/python3.10/dist-packages (from uvicorn<2.0->lightning~=2.0.6->-r requirements.txt (line 5)) (0.14.0)\n",
      "Requirement already satisfied: marshmallow<4.0.0,>=3.18.0 in /usr/local/lib/python3.10/dist-packages (from dataclasses-json->pykeen==1.10.1->-r requirements.txt (line 12)) (3.20.1)\n",
      "Requirement already satisfied: typing-inspect<1,>=0.4.0 in /usr/local/lib/python3.10/dist-packages (from dataclasses-json->pykeen==1.10.1->-r requirements.txt (line 12)) (0.9.0)\n",
      "Requirement already satisfied: mpmath>=0.19 in /usr/local/lib/python3.10/dist-packages (from sympy->torch>=2.0.1->-r requirements.txt (line 17)) (1.3.0)\n",
      "Requirement already satisfied: Mako in /usr/local/lib/python3.10/dist-packages (from alembic>=1.5.0->optuna>=2.0.0->pykeen==1.10.1->-r requirements.txt (line 12)) (1.3.0)\n",
      "Requirement already satisfied: sniffio>=1.1 in /usr/local/lib/python3.10/dist-packages (from anyio<5,>=3.4.0->starlette->lightning~=2.0.6->-r requirements.txt (line 5)) (1.3.0)\n",
      "Requirement already satisfied: exceptiongroup in /usr/local/lib/python3.10/dist-packages (from anyio<5,>=3.4.0->starlette->lightning~=2.0.6->-r requirements.txt (line 5)) (1.2.0)\n",
      "Requirement already satisfied: wcwidth>=0.1.4 in /usr/local/lib/python3.10/dist-packages (from blessed>=1.19.0->inquirer<5.0,>=2.10.0->lightning~=2.0.6->-r requirements.txt (line 5)) (0.2.12)\n",
      "Requirement already satisfied: cachetools<6.0,>=2.0.0 in /usr/local/lib/python3.10/dist-packages (from google-auth<3,>=1.6.3->tensorboard<2.16,>=2.15->TensorFlow>=2.14->-r requirements.txt (line 3)) (5.3.2)\n",
      "Requirement already satisfied: pyasn1-modules>=0.2.1 in /usr/local/lib/python3.10/dist-packages (from google-auth<3,>=1.6.3->tensorboard<2.16,>=2.15->TensorFlow>=2.14->-r requirements.txt (line 3)) (0.3.0)\n",
      "Requirement already satisfied: rsa<5,>=3.1.4 in /usr/local/lib/python3.10/dist-packages (from google-auth<3,>=1.6.3->tensorboard<2.16,>=2.15->TensorFlow>=2.14->-r requirements.txt (line 3)) (4.9)\n",
      "Requirement already satisfied: requests-oauthlib>=0.7.0 in /usr/local/lib/python3.10/dist-packages (from google-auth-oauthlib<2,>=0.5->tensorboard<2.16,>=2.15->TensorFlow>=2.14->-r requirements.txt (line 3)) (1.3.1)\n",
      "Requirement already satisfied: mdurl~=0.1 in /usr/local/lib/python3.10/dist-packages (from markdown-it-py>=2.2.0->rich<15.0,>=12.3.0->lightning~=2.0.6->-r requirements.txt (line 5)) (0.1.2)\n",
      "Requirement already satisfied: greenlet!=0.4.17 in /usr/local/lib/python3.10/dist-packages (from sqlalchemy>=1.3.0->optuna>=2.0.0->pykeen==1.10.1->-r requirements.txt (line 12)) (3.0.2)\n",
      "Requirement already satisfied: mypy-extensions>=0.3.0 in /usr/local/lib/python3.10/dist-packages (from typing-inspect<1,>=0.4.0->dataclasses-json->pykeen==1.10.1->-r requirements.txt (line 12)) (1.0.0)\n",
      "Requirement already satisfied: botocore<1.35.0,>=1.34.11 in /usr/local/lib/python3.10/dist-packages (from boto3->lightning-cloud>=0.5.38->lightning~=2.0.6->-r requirements.txt (line 5)) (1.34.11)\n",
      "Requirement already satisfied: jmespath<2.0.0,>=0.7.1 in /usr/local/lib/python3.10/dist-packages (from boto3->lightning-cloud>=0.5.38->lightning~=2.0.6->-r requirements.txt (line 5)) (1.0.1)\n",
      "Requirement already satisfied: s3transfer<0.11.0,>=0.10.0 in /usr/local/lib/python3.10/dist-packages (from boto3->lightning-cloud>=0.5.38->lightning~=2.0.6->-r requirements.txt (line 5)) (0.10.0)\n",
      "Requirement already satisfied: pyasn1<0.6.0,>=0.4.6 in /usr/local/lib/python3.10/dist-packages (from pyasn1-modules>=0.2.1->google-auth<3,>=1.6.3->tensorboard<2.16,>=2.15->TensorFlow>=2.14->-r requirements.txt (line 3)) (0.5.1)\n",
      "Requirement already satisfied: oauthlib>=3.0.0 in /usr/local/lib/python3.10/dist-packages (from requests-oauthlib>=0.7.0->google-auth-oauthlib<2,>=0.5->tensorboard<2.16,>=2.15->TensorFlow>=2.14->-r requirements.txt (line 3)) (3.2.2)\n"
     ]
    }
   ]
  },
  {
   "cell_type": "code",
   "source": [
    "import os\n",
    "import pickle\n",
    "import torch\n",
    "\n",
    "import networkx as nx\n",
    "import pandas as pd\n",
    "\n",
    "from tqdm import tqdm\n",
    "\n",
    "from config import ROOT_DIR\n",
    "from KnowledgeExtraction.subgraph_builder import SubgraphBuilder\n",
    "from src.preprocess.build_raw_dataset import initiate_question_graph, embed_text\n",
    "from src.preprocess.medical_ner import medical_ner\n",
    "from src.utils import meta_relations_dict"
   ],
   "metadata": {
    "id": "vW4s2Pw9NSn4"
   },
   "execution_count": null,
   "outputs": []
  },
  {
   "cell_type": "markdown",
   "source": [
    "## Create a SubgraphBuilder object"
   ],
   "metadata": {
    "id": "bIWZJYevmvFt"
   }
  },
  {
   "cell_type": "code",
   "source": [
    "kg_path = os.path.join(ROOT_DIR, 'datasets/prime_kg_nx_63960.pickle')\n",
    "embeddings_path = os.path.join(ROOT_DIR, 'datasets/prime_kg_embeddings_tensor_63960.pt')\n",
    "trie_path = None\n",
    "trie_save_path = os.path.join(ROOT_DIR, 'datasets/')"
   ],
   "metadata": {
    "id": "jTii7PSONd8X"
   },
   "execution_count": null,
   "outputs": []
  },
  {
   "cell_type": "code",
   "source": [
    "subgraph_builder = SubgraphBuilder(kg_name_or_path=kg_path,\n",
    "                                       kg_embeddings_path=embeddings_path,\n",
    "                                       dataset_name_or_path='medmcqa',\n",
    "                                       meta_relation_types_dict=meta_relations_dict,\n",
    "                                       embedding_method=embed_text,\n",
    "                                       trie_path=trie_path,\n",
    "                                       )"
   ],
   "metadata": {
    "colab": {
     "base_uri": "https://localhost:8080/",
     "height": 86,
     "referenced_widgets": [
      "92f644603c9348b38c4938abf0ac083f",
      "ee7d8446110e48bc8c5488ba0471f410",
      "8e025253aad34d6b91839678cab5a388",
      "2a7301565faa447f822d0b6c67c80f27",
      "21c9e9a593794c13a645b41ee032dbd4",
      "4494f7d1461349dcb647cc5475dc9457",
      "9af351173f9d459cbb2c346e9b548db2",
      "fc036a82071d4640a4ee4d1843c7a023",
      "a141ae6aaf9d4d8aab4190632e043b67",
      "d98834bbeee84ae0abc001d5d3b8f003",
      "415e37931e884f4da6e5b44b5bd0954e"
     ]
    },
    "id": "Ybrd3CNsNquG",
    "executionInfo": {
     "status": "ok",
     "timestamp": 1703864975910,
     "user_tz": -120,
     "elapsed": 59416,
     "user": {
      "displayName": "Shira Ben David",
      "userId": "15174141733610170957"
     }
    },
    "outputId": "a7d2c8c8-c3b5-4d52-cb4d-3af096af7f3f"
   },
   "execution_count": null,
   "outputs": [
    {
     "output_type": "stream",
     "name": "stderr",
     "text": [
      "WARNING:datasets.builder:Found cached dataset medmcqa (/root/.cache/huggingface/datasets/medmcqa/default/1.1.0/f2fdfa9ccfbf9d148c0639e6afe3379f3c7e95c4d52d5e68ec1156e5004bd880)\n"
     ]
    },
    {
     "output_type": "display_data",
     "data": {
      "text/plain": [
       "  0%|          | 0/3 [00:00<?, ?it/s]"
      ],
      "application/vnd.jupyter.widget-view+json": {
       "version_major": 2,
       "version_minor": 0,
       "model_id": "92f644603c9348b38c4938abf0ac083f"
      }
     },
     "metadata": {}
    }
   ]
  },
  {
   "cell_type": "code",
   "source": [
    "# Save a list of all nodes indices for efficient mapping later on\n",
    "node_indices_list = [data['index'] for _, data in subgraph_builder.kg.nodes(data=True)]"
   ],
   "metadata": {
    "id": "c-l00bViNqrT"
   },
   "execution_count": null,
   "outputs": []
  },
  {
   "cell_type": "code",
   "source": [
    "medmcqa_df = pd.DataFrame(subgraph_builder.dataset['train'])"
   ],
   "metadata": {
    "id": "T898rOUeNqmu"
   },
   "execution_count": null,
   "outputs": []
  },
  {
   "cell_type": "code",
   "source": [
    "torch.cuda.is_available()"
   ],
   "metadata": {
    "colab": {
     "base_uri": "https://localhost:8080/"
    },
    "id": "L2uh2PNsNqhA",
    "executionInfo": {
     "status": "ok",
     "timestamp": 1703865007347,
     "user_tz": -120,
     "elapsed": 20,
     "user": {
      "displayName": "Shira Ben David",
      "userId": "15174141733610170957"
     }
    },
    "outputId": "e51ad5f3-74d8-43f5-89d9-3c7686c2e4e1"
   },
   "execution_count": null,
   "outputs": [
    {
     "output_type": "execute_result",
     "data": {
      "text/plain": [
       "True"
      ]
     },
     "metadata": {},
     "execution_count": 17
    }
   ]
  },
  {
   "cell_type": "code",
   "source": [
    "raw_data_list = []\n",
    "start_index = 74251\n",
    "for i, row in tqdm(medmcqa_df[start_index:74501].iterrows()):\n",
    "\n",
    "    try:\n",
    "        subgraph_builder.nx_subgraph = nx.Graph()\n",
    "        original_question_series = row.drop(['id', 'cop', 'exp'])\n",
    "        question = row['question']\n",
    "        answer_choices = [row['opa'], row['opb'], row['opc'], row['opd']]\n",
    "        correct_answer = row['cop']\n",
    "        row_id = row['id']\n",
    "\n",
    "        entities_list, entities_indices_list, num_entities_list = medical_ner([question] + answer_choices, subgraph_builder.node_embeddings, node_indices_list, subgraph_builder.kg)\n",
    "\n",
    "        if len(entities_list) == 0:\n",
    "            continue\n",
    "        # reconstruct answer indices for initiating the question graph:\n",
    "        start = num_entities_list[0]\n",
    "        end = start + num_entities_list[1]\n",
    "        index = 2\n",
    "        answer_entities_dict = {}\n",
    "\n",
    "        for choice in answer_choices:\n",
    "            answer_entities_dict[choice] = entities_indices_list[start:end]\n",
    "            start = end\n",
    "            end += num_entities_list[min(index, len(num_entities_list) - 1)]\n",
    "            index += 1\n",
    "\n",
    "        subgraph_builder.nx_subgraph = initiate_question_graph(subgraph_builder.nx_subgraph, question, answer_choices, correct_answer, entities_indices_list[:num_entities_list[0]], answer_entities_dict, subgraph_builder.kg,\n",
    "                                                                question_index=int(i))\n",
    "\n",
    "        extracted_edges, extracted_edge_indices = subgraph_builder.extract_knowledge_from_kg(question, hops=2, neighbors_per_hop=5, entities_list=entities_list)\n",
    "\n",
    "        if extracted_edge_indices is not None:\n",
    "            subgraph_builder.expand_graph_with_knowledge(extracted_edge_indices)\n",
    "\n",
    "        pickle.dump(subgraph_builder.nx_subgraph, open(os.path.join(ROOT_DIR, f'datasets/train/raw_train_dataset/graph_{i}.pickle'), 'wb'))\n",
    "        raw_data_list.append(subgraph_builder.nx_subgraph)\n",
    "\n",
    "        if i % 250 == 0:\n",
    "            pickle.dump(raw_data_list, open(os.path.join(ROOT_DIR, f'datasets/raw_data_list_{start_index}-{i}.pickle'), 'wb'))\n",
    "    except Exception as e:\n",
    "        print(f\"An error occurred on index {i}:\", e)\n"
   ],
   "metadata": {
    "colab": {
     "base_uri": "https://localhost:8080/"
    },
    "id": "o4XjtLhdN2tH",
    "executionInfo": {
     "status": "ok",
     "timestamp": 1703885176150,
     "user_tz": -120,
     "elapsed": 284146,
     "user": {
      "displayName": "Shira Ben David",
      "userId": "15174141733610170957"
     }
    },
    "outputId": "02129eef-4d30-4856-c395-d9320aade7d2"
   },
   "execution_count": null,
   "outputs": [
    {
     "output_type": "stream",
     "name": "stderr",
     "text": [
      "250it [04:43,  1.14s/it]\n"
     ]
    }
   ]
  },
  {
   "cell_type": "code",
   "source": [
    "pickle.dump(raw_data_list, open(os.path.join(ROOT_DIR, f'datasets/raw_data_list_{start_index}-{i}.pickle'), 'wb'))"
   ],
   "metadata": {
    "id": "pPNJaxXLN2pe"
   },
   "execution_count": null,
   "outputs": []
  }
 ]
}
